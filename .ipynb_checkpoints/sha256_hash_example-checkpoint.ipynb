{
 "cells": [
  {
   "cell_type": "markdown",
   "id": "173ef5a9",
   "metadata": {},
   "source": [
    "# SHA256 Hashes"
   ]
  },
  {
   "cell_type": "markdown",
   "id": "19cf9488",
   "metadata": {},
   "source": [
    "SHA256 is a popular cryptographic hash algorithm that produces a 256-bit hash value. It is commonly used to check the integrity of files and verify the authenticity of files or data. It is also widely used in the cryptocurrency world to secure transactions on the blockchain. In this session, we’ll look at how to generate and use SHA256 hashes in Python."
   ]
  },
  {
   "cell_type": "markdown",
   "id": "669714c7",
   "metadata": {},
   "source": [
    "## What is a SHA256 Hash?\n",
    "\n",
    "A SHA256 hash is a cryptographic hash algorithm that takes an input of any length and produces a fixed-size 256-bit (32-byte) hash value. The output is known as a hash digest and is used as a one-way function to verify the integrity of a file.\n",
    "\n",
    "The SHA256 algorithm is designed to be collision-resistant, meaning it is very difficult to find two different inputs that will produce the same output. This makes it useful for verifying the authenticity of a file or data."
   ]
  },
  {
   "cell_type": "markdown",
   "id": "1c2bcfbb",
   "metadata": {},
   "source": [
    "## Generating a SHA256 Hash in Python\n",
    "\n",
    "Generating a SHA256 hash in Python is quite simple. The hashlib module, which is included in the Python standard library, provides several hashing algorithms including SHA256.\n",
    "\n",
    "To generate a SHA256 hash, we can use the hashlib.sha256() function. This function takes a string as an argument and returns the SHA256 hash of the input string.\n",
    "\n",
    "Here’s a simple example of how to generate a SHA256 hash in Python:"
   ]
  },
  {
   "cell_type": "code",
   "execution_count": 1,
   "id": "25312df9",
   "metadata": {},
   "outputs": [
    {
     "data": {
      "text/plain": [
       "'2cf24dba5fb0a30e26e83b2ac5b9e29e1b161e5c1fa7425e73043362938b9824'"
      ]
     },
     "execution_count": 1,
     "metadata": {},
     "output_type": "execute_result"
    }
   ],
   "source": [
    "import hashlib\n",
    "\n",
    "# Input string\n",
    "input_string = 'hello'\n",
    "\n",
    "# Generate SHA256 hash\n",
    "sha256_hash = hashlib.sha256(input_string.encode('utf-8')).hexdigest()\n",
    "\n",
    "# Print the hash\n",
    "sha256_hash"
   ]
  },
  {
   "cell_type": "markdown",
   "id": "1246adfb",
   "metadata": {},
   "source": [
    "The ```hashlib.sha256()``` function also accepts a bytes-like object as an argument, so we can use it to generate the SHA256 hash of a file. Here’s an example of how to do this:"
   ]
  },
  {
   "cell_type": "code",
   "execution_count": 2,
   "id": "54bd8024",
   "metadata": {},
   "outputs": [
    {
     "data": {
      "text/plain": [
       "'2e5024ed1f9024bd607c06b47c7e994ecd36735a6f72c89ead23d45851e659ea'"
      ]
     },
     "execution_count": 2,
     "metadata": {},
     "output_type": "execute_result"
    }
   ],
   "source": [
    "# Open the file\n",
    "with open(\"text_file.txt\", \"rb\") as f:\n",
    "    # Read the contents of the file\n",
    "    data = f.read()\n",
    "\n",
    "# Generate SHA256 hash\n",
    "sha256_hash = hashlib.sha256(data).hexdigest()\n",
    "\n",
    "# Print the hash\n",
    "sha256_hash"
   ]
  },
  {
   "cell_type": "markdown",
   "id": "1d0b1d6d",
   "metadata": {},
   "source": [
    "## Using a SHA256 Hash to Verify File Integrity\n",
    "\n",
    "Once we have the SHA256 hash of a file, we can use it to verify the integrity of a file or other data. This is useful for verifying the authenticity of downloaded files or blocks of data.\n",
    "\n",
    "We can do this by comparing the SHA256 hash of the downloaded file with the expected hash. If the hashes match, then we can be sure that the file has not been tampered with.\n",
    "\n",
    "Here’s an example of how to do this in Python:"
   ]
  },
  {
   "cell_type": "code",
   "execution_count": 3,
   "id": "8aa38bea",
   "metadata": {},
   "outputs": [
    {
     "name": "stdout",
     "output_type": "stream",
     "text": [
      "Hashes match! The file is authentic.\n"
     ]
    }
   ],
   "source": [
    "# Expected hash\n",
    "confirmation_hash = \"2e5024ed1f9024bd607c06b47c7e994ecd36735a6f72c89ead23d45851e659ea\"\n",
    "\n",
    "# Open the file\n",
    "with open(\"text_file.txt\", \"rb\") as f:\n",
    "    # Read the contents of the file\n",
    "    data = f.read()\n",
    "\n",
    "# Generate SHA256 hash\n",
    "sha256_hash = hashlib.sha256(data).hexdigest()\n",
    "\n",
    "# Compare hashes\n",
    "if sha256_hash == confirmation_hash:\n",
    "    print(\"Hashes match! The file is authentic.\")\n",
    "else:\n",
    "    print(\"Hashes do not match! The file may have been tampered with.\")"
   ]
  },
  {
   "cell_type": "markdown",
   "id": "465518c0",
   "metadata": {},
   "source": [
    "This code will compare the SHA256 hash of the ```example.txt``` file with the expected hash. If they match, it will print a message saying the file is authentic. If they don’t match, it will print a message saying the file may have been tampered with."
   ]
  },
  {
   "cell_type": "markdown",
   "id": "8863f610",
   "metadata": {},
   "source": [
    "## Large files\n",
    "\n",
    "Notice that the size of the hash remains the same regardless of the size of the item to be hashed.  Let's hash an image file.\n",
    "\n",
    "<img src=\"mike.png\" alt=\"Mike strolling around\" />"
   ]
  },
  {
   "cell_type": "code",
   "execution_count": 4,
   "id": "9ebc788d",
   "metadata": {},
   "outputs": [
    {
     "data": {
      "text/plain": [
       "'74a3d70ac1fe79985c58e76684ea72d69df1024a087f8e0750f8f800df1030ce'"
      ]
     },
     "execution_count": 4,
     "metadata": {},
     "output_type": "execute_result"
    }
   ],
   "source": [
    "# hashing an image\n",
    "\n",
    "# Open the file\n",
    "with open(\"mike.png\", \"rb\") as f:\n",
    "    # Read the contents of the file\n",
    "    data = f.read()\n",
    "    \n",
    "# Generate SHA256 hash\n",
    "sha256_hash = hashlib.sha256(data).hexdigest()\n",
    "\n",
    "# Print the hash\n",
    "sha256_hash"
   ]
  },
  {
   "cell_type": "markdown",
   "id": "2b5692e1",
   "metadata": {},
   "source": [
    "How about a video file?  "
   ]
  },
  {
   "cell_type": "code",
   "execution_count": 5,
   "id": "56711416",
   "metadata": {},
   "outputs": [
    {
     "data": {
      "text/plain": [
       "'9b6df1e46424704e281ea1b9e933fec9cc599e9f5f75ddba2bf1deed647e6b2d'"
      ]
     },
     "execution_count": 5,
     "metadata": {},
     "output_type": "execute_result"
    }
   ],
   "source": [
    "# hashing a video file\n",
    "\n",
    "# Open the file\n",
    "with open(\"Afghanistan_homecoming.mov\", \"rb\") as f:\n",
    "    # Read the contents of the file\n",
    "    data = f.read()\n",
    "    \n",
    "# Generate SHA256 hash\n",
    "sha256_hash = hashlib.sha256(data).hexdigest()\n",
    "\n",
    "# Print the hash\n",
    "sha256_hash"
   ]
  },
  {
   "cell_type": "markdown",
   "id": "40dfb2b3",
   "metadata": {},
   "source": [
    "## Conclusion\n",
    "\n",
    "In these examples, we looked at how to generate and use SHA256 hashes in Python. We saw how to generate a SHA256 hash of a string or a file and how to use it to verify the integrity of a file."
   ]
  },
  {
   "cell_type": "code",
   "execution_count": null,
   "id": "ac2ca27f",
   "metadata": {},
   "outputs": [],
   "source": []
  }
 ],
 "metadata": {
  "kernelspec": {
   "display_name": "Python 3 (ipykernel)",
   "language": "python",
   "name": "python3"
  },
  "language_info": {
   "codemirror_mode": {
    "name": "ipython",
    "version": 3
   },
   "file_extension": ".py",
   "mimetype": "text/x-python",
   "name": "python",
   "nbconvert_exporter": "python",
   "pygments_lexer": "ipython3",
   "version": "3.10.9"
  }
 },
 "nbformat": 4,
 "nbformat_minor": 5
}
